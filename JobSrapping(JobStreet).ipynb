{
 "cells": [
  {
   "cell_type": "markdown",
   "id": "7b94fc23",
   "metadata": {},
   "source": [
    "# Jobstreet Job Scrapper"
   ]
  },
  {
   "cell_type": "code",
   "execution_count": 1,
   "id": "4bb94151",
   "metadata": {},
   "outputs": [],
   "source": [
    "import csv\n",
    "from datetime import datetime\n",
    "import requests\n",
    "from bs4 import BeautifulSoup"
   ]
  },
  {
   "cell_type": "code",
   "execution_count": 2,
   "id": "37252b2f",
   "metadata": {},
   "outputs": [],
   "source": [
    "def get_url(position,location):\n",
    "    \"\"\"Generate a url from position and location\"\"\"\n",
    "    template = 'https://malaysia.indeed.com/jobs?q={}&l={}'\n",
    "    url = template.format(position,location)\n",
    "    return url"
   ]
  },
  {
   "cell_type": "code",
   "execution_count": 3,
   "id": "977b29a0",
   "metadata": {},
   "outputs": [],
   "source": [
    "test2='https://www.jobstreet.com.my/internship-for-computer-science-students-jobs'\n",
    "test3= 'https://www.jobstreet.com.my/companies/petronas-168551397678682/reviews'"
   ]
  },
  {
   "cell_type": "markdown",
   "id": "698ef9c6",
   "metadata": {},
   "source": [
    "### Extract raw html"
   ]
  },
  {
   "cell_type": "code",
   "execution_count": 4,
   "id": "0dfb5500",
   "metadata": {},
   "outputs": [],
   "source": [
    "response = requests.get(test2)"
   ]
  },
  {
   "cell_type": "code",
   "execution_count": 5,
   "id": "97b9df82",
   "metadata": {},
   "outputs": [
    {
     "data": {
      "text/plain": [
       "<Response [200]>"
      ]
     },
     "execution_count": 5,
     "metadata": {},
     "output_type": "execute_result"
    }
   ],
   "source": [
    "response"
   ]
  },
  {
   "cell_type": "code",
   "execution_count": 6,
   "id": "1a42a361",
   "metadata": {
    "scrolled": true
   },
   "outputs": [
    {
     "data": {
      "text/plain": [
       "'OK'"
      ]
     },
     "execution_count": 6,
     "metadata": {},
     "output_type": "execute_result"
    }
   ],
   "source": [
    "response.reason"
   ]
  },
  {
   "cell_type": "code",
   "execution_count": 7,
   "id": "6d47a0fb",
   "metadata": {},
   "outputs": [],
   "source": [
    "soup = BeautifulSoup (response.content, 'html.parser')"
   ]
  },
  {
   "cell_type": "code",
   "execution_count": 8,
   "id": "52430c27",
   "metadata": {},
   "outputs": [],
   "source": [
    "cards = soup.find_all ('div','y735df0 _1akoxc50 _1akoxc56')"
   ]
  },
  {
   "cell_type": "code",
   "execution_count": 9,
   "id": "db3a5025",
   "metadata": {
    "scrolled": true
   },
   "outputs": [
    {
     "data": {
      "text/plain": [
       "37"
      ]
     },
     "execution_count": 9,
     "metadata": {},
     "output_type": "execute_result"
    }
   ],
   "source": [
    "len(cards)"
   ]
  },
  {
   "cell_type": "markdown",
   "id": "7b85c219",
   "metadata": {},
   "source": [
    "### Prototype the model with a single record "
   ]
  },
  {
   "cell_type": "markdown",
   "id": "9d52f681-08fa-4652-9e58-e9fb32deb428",
   "metadata": {
    "tags": []
   },
   "source": [
    "### Job Title"
   ]
  },
  {
   "cell_type": "code",
   "execution_count": 10,
   "id": "94a232d6",
   "metadata": {},
   "outputs": [
    {
     "name": "stdout",
     "output_type": "stream",
     "text": [
      "Job Title: Internship for Computer/IT Students\n",
      "Job Title: Internship for IT Students\n",
      "Job Title: Internship - Business Administration\n",
      "Job Title: Intern, IT - Digitalization Intern\n",
      "Job Title: Internship - Business Consultant\n",
      "Job Title: Internship Program – IT  (Selangor)\n",
      "Job Title: Internship Program – IT  (Selangor)\n",
      "Job Title: Information Technology (IT) Internship (Ipoh, Perak)\n",
      "Job Title: Internship Software Engineer (6 Months)\n",
      "Job Title: Digital Technology Intern\n",
      "Job Title: Internship for Computer / IT Students\n",
      "Job Title: Scientist for Computer Science\n",
      "Job Title: Software Support Consultant (Full Time & Internship)\n",
      "Job Title: Internship for IT Students\n",
      "Job Title: Internship for Various Department\n",
      "Job Title: Internship for Various Department\n",
      "Job Title: IT Intern\n",
      "Job Title: Internship for IT Students (Java, Mobile Developer) - RM2,000 for Top Students\n",
      "Job Title: Internship Program – Finance Shared Service Centre (Johor Bahru):\n",
      "Job Title: Internship Program – Finance Shared Service Centre (Johor Bahru):\n",
      "Job Title: Customer Support Intern (Medical Application)\n",
      "Job Title: Internship IT\n",
      "Job Title: Internship for IT Systems Engineer Students\n",
      "Job Title: IT Internship\n",
      "Job Title: Technical Support Intern, Digital Services\n",
      "Job Title: Premier Entrepreneur Program\n",
      "Job Title: Internship for Artificial Intelligence students (August Intake)\n",
      "Job Title: Internship\n",
      "Job Title: Internship\n",
      "Job Title: INTERNSHIP FOR IT STUDENT\n",
      "Job Title: Internship - Actuarial Science\n",
      "Job Title: Internship- Various Department\n",
      "Job Title: IT Technical Support Internship Trainee\n",
      "Job Title: Backend Developer (Golang/C#/Nodejs)\n",
      "Job Title: Computer Science\n",
      "Job Title: Internship for Administration Student\n",
      "Job title not found.\n"
     ]
    }
   ],
   "source": [
    "for card in cards:\n",
    "        job_title_tag = card.find('a',\n",
    "                                  attrs={'data-automation': 'jobTitle'})\n",
    "        if job_title_tag:\n",
    "            job_title = job_title_tag.text.strip()\n",
    "            print(\"Job Title:\", job_title)\n",
    "        else:\n",
    "            print(\"Job title not found.\")\n"
   ]
  },
  {
   "cell_type": "markdown",
   "id": "487f576e-6bcb-4406-8cc9-7c87e165e1f4",
   "metadata": {},
   "source": [
    "### Job URL "
   ]
  },
  {
   "cell_type": "code",
   "execution_count": 11,
   "id": "6670af47",
   "metadata": {
    "tags": []
   },
   "outputs": [
    {
     "name": "stdout",
     "output_type": "stream",
     "text": [
      "Job URL: https://www.jobstreet.com.my/job/75270814?type=standout&ref=search-standalone&origin=cardTitle\n",
      "Job URL: https://www.jobstreet.com.my/job/75133242?type=standout&ref=search-standalone&origin=cardTitle\n",
      "Job URL: https://www.jobstreet.com.my/job/75292101?type=standard&ref=search-standalone&origin=cardTitle\n",
      "Job URL: https://www.jobstreet.com.my/job/75196143?type=standout&ref=search-standalone&origin=cardTitle\n",
      "Job URL: https://www.jobstreet.com.my/job/75123268?type=standout&ref=search-standalone&origin=cardTitle\n",
      "Job URL: https://www.jobstreet.com.my/job/75185033?type=standard&ref=search-standalone&origin=cardTitle\n",
      "Job URL: https://www.jobstreet.com.my/job/75185033?type=standard&ref=search-standalone&origin=cardTitle\n",
      "Job URL: https://www.jobstreet.com.my/job/75081291?type=standout&ref=search-standalone&origin=cardTitle\n",
      "Job URL: https://www.jobstreet.com.my/job/75215829?type=standout&ref=search-standalone&origin=cardTitle\n",
      "Job URL: https://www.jobstreet.com.my/job/75149813?type=standout&ref=search-standalone&origin=cardTitle\n",
      "Job URL: https://www.jobstreet.com.my/job/75081804?type=standout&ref=search-standalone&origin=cardTitle\n",
      "Job URL: https://www.jobstreet.com.my/job/74878576?type=standout&ref=search-standalone&origin=cardTitle\n",
      "Job URL: https://www.jobstreet.com.my/job/74942822?type=standout&ref=search-standalone&origin=cardTitle\n",
      "Job URL: https://www.jobstreet.com.my/job/74983603?type=standout&ref=search-standalone&origin=cardTitle\n",
      "Job URL: https://www.jobstreet.com.my/job/75216229?type=standard&ref=search-standalone&origin=cardTitle\n",
      "Job URL: https://www.jobstreet.com.my/job/75216229?type=standard&ref=search-standalone&origin=cardTitle\n",
      "Job URL: https://www.jobstreet.com.my/job/75015151?type=standout&ref=search-standalone&origin=cardTitle\n",
      "Job URL: https://www.jobstreet.com.my/job/74954428?type=standout&ref=search-standalone&origin=cardTitle\n",
      "Job URL: https://www.jobstreet.com.my/job/75228858?type=standard&ref=search-standalone&origin=cardTitle\n",
      "Job URL: https://www.jobstreet.com.my/job/75228858?type=standard&ref=search-standalone&origin=cardTitle\n",
      "Job URL: https://www.jobstreet.com.my/job/75167334?type=standard&ref=search-standalone&origin=cardTitle\n",
      "Job URL: https://www.jobstreet.com.my/job/74999172?type=standout&ref=search-standalone&origin=cardTitle\n",
      "Job URL: https://www.jobstreet.com.my/job/74984409?type=standout&ref=search-standalone&origin=cardTitle\n",
      "Job URL: https://www.jobstreet.com.my/job/74995665?type=standout&ref=search-standalone&origin=cardTitle\n",
      "Job URL: https://www.jobstreet.com.my/job/74796100?type=standout&ref=search-standalone&origin=cardTitle\n",
      "Job URL: https://www.jobstreet.com.my/job/75091427?type=standard&ref=search-standalone&origin=cardTitle\n",
      "Job URL: https://www.jobstreet.com.my/job/74950822?type=standard&ref=search-standalone&origin=cardTitle\n",
      "Job URL: https://www.jobstreet.com.my/job/75133155?type=standard&ref=search-standalone&origin=cardTitle\n",
      "Job URL: https://www.jobstreet.com.my/job/75133155?type=standard&ref=search-standalone&origin=cardTitle\n",
      "Job URL: https://www.jobstreet.com.my/job/74995566?type=standout&ref=search-standalone&origin=cardTitle\n",
      "Job URL: https://www.jobstreet.com.my/job/74919013?type=standard&ref=search-standalone&origin=cardTitle\n",
      "Job URL: https://www.jobstreet.com.my/job/74878637?type=standout&ref=search-standalone&origin=cardTitle\n",
      "Job URL: https://www.jobstreet.com.my/job/74854201?type=standout&ref=search-standalone&origin=cardTitle\n",
      "Job URL: https://www.jobstreet.com.my/job/75019273?type=standout&ref=search-standalone&origin=cardTitle\n",
      "Job URL: https://www.jobstreet.com.my/job/74476594?type=standout&ref=search-standalone&origin=cardTitle\n",
      "Job URL: https://www.jobstreet.com.my/job/75021248?type=standout&ref=search-standalone&origin=cardTitle\n",
      "Job URL not found.\n"
     ]
    }
   ],
   "source": [
    "for card in cards:\n",
    "    job_title_tag = card.find('a', href=True)    \n",
    "    if job_title_tag:\n",
    "            job_title = job_title_tag.text.strip()\n",
    "            job_url = 'https://www.jobstreet.com.my' + job_title_tag['href']\n",
    "            print(\"Job URL:\", job_url)\n",
    "    else:\n",
    "            print(\"Job URL not found.\")\n"
   ]
  },
  {
   "cell_type": "markdown",
   "id": "193a035b-d6ce-4ca6-b8e2-41b37e8a20f4",
   "metadata": {},
   "source": [
    "### Company"
   ]
  },
  {
   "cell_type": "code",
   "execution_count": 17,
   "id": "0399e3b5-af59-49c5-a72e-9d997252c1e5",
   "metadata": {},
   "outputs": [
    {
     "name": "stdout",
     "output_type": "stream",
     "text": [
      "Company: Rocketsview Management Sdn Bhd\n",
      "Company: Tony Ng & Associates Sdn Bhd\n",
      "Company: QARMAKROME PRODUCTIONS SDN. BHD.\n",
      "Company: KLK OLEO\n",
      "Company: Hitachi eBworx Sdn. Bhd.\n",
      "Company: Arkema Coating Resins Malaysia Sdn. Bhd.\n",
      "Company: Arkema Coating Resins Malaysia Sdn. Bhd.\n",
      "Company: KUALA LUMPUR KEPONG BERHAD (KLK)\n",
      "Company: Exact Asia Development Centre Sdn Bhd\n",
      "Company: The Alice Smith School\n",
      "Company: FootfallCam\n",
      "Company: ANHSIN TECHNOLOGY SDN BHD\n",
      "Company: KEMM ADVISORY SDN. BHD.\n",
      "Company: Zen Computer Systems Sdn Bhd\n",
      "Company: SUZUKI MALAYSIA SDN. BHD.\n",
      "Company: SUZUKI MALAYSIA SDN. BHD.\n",
      "Company: Safran Landing Systems Malaysia Sdn Bhd\n",
      "Company: iFAST Capital Sdn Bhd\n",
      "Company: Arkema Coating Resins Malaysia Sdn. Bhd.\n",
      "Company: Arkema Coating Resins Malaysia Sdn. Bhd.\n",
      "Company: Roche Services & Solutions Operations APAC\n",
      "Company: ABC COOKING STUDIO MALAYSIA SDN. BHD.\n",
      "Company: iFAST Capital Sdn Bhd\n",
      "Company: Maestro Swiss Industries Sdn. Bhd.\n",
      "Company: Ninja Logistics (Thailand) Limited.\n",
      "Company: MYS AGENCY\n",
      "Company: QL Maxincome Sdn Bhd (FamilyMart)\n",
      "Company: Samling Group of Companies\n",
      "Company: Samling Group of Companies\n",
      "Company: Hup Fatt Brothers Engineering (M) Sdn Bhd\n",
      "Company: Sun Life Malaysia Assurance Berhad\n",
      "Company: MiCare Sdn Bhd\n",
      "Company: UOB Kay Hian Securities (M) Sdn Bhd\n",
      "Company: LYJ EVENTS & MARKETING SDN BHD\n",
      "Company: Tenby International School Tropicana Aman\n",
      "Company: CID REALTORS SDN BHD\n",
      "Company not found.\n"
     ]
    }
   ],
   "source": [
    "for card in cards:\n",
    "        job_company = card.find('a', \n",
    "                                attrs={'data-automation': 'jobCompany'})\n",
    "        if job_company:\n",
    "            company = job_company.text.strip().replace(\"at \", \"\")\n",
    "            print(\"Company:\", company)\n",
    "        else:\n",
    "            print(\"Company not found.\")\n"
   ]
  },
  {
   "cell_type": "markdown",
   "id": "cc7e165f-62cb-4646-ac20-9eb36ec18943",
   "metadata": {},
   "source": [
    "### Location"
   ]
  },
  {
   "cell_type": "code",
   "execution_count": 13,
   "id": "716199b9-99a7-40f7-8e80-53a33ff43a71",
   "metadata": {},
   "outputs": [
    {
     "name": "stdout",
     "output_type": "stream",
     "text": [
      "Location: Kuala Lumpur\n",
      "Location: Penang\n",
      "Location: Selangor\n",
      "Location: Petaling Jaya\n",
      "Location: Petaling Jaya\n",
      "Location: Johor Bahru\n",
      "Location not found.\n",
      "Location: Ipoh\n",
      "Location: Kuala Lumpur\n",
      "Location: Kajang/Bangi/Serdang\n",
      "Location: Kuala Lumpur\n",
      "Location: Kuala Lumpur\n",
      "Location: George Town\n",
      "Location: Cyberjaya\n",
      "Location: Glenmarie\n",
      "Location not found.\n",
      "Location: Others\n",
      "Location: Kuala Lumpur\n",
      "Location: Johor Bahru\n",
      "Location not found.\n",
      "Location: Petaling Jaya\n",
      "Location: Kuala Lumpur\n",
      "Location: Kuala Lumpur\n",
      "Location: Butterworth\n",
      "Location: Subang Jaya\n",
      "Location: Ipoh\n",
      "Location: Bukit Jelutong\n",
      "Location: Miri\n",
      "Location not found.\n",
      "Location: Ulu Tiram\n",
      "Location: Kuala Lumpur\n",
      "Location: Bukit Jelutong\n",
      "Location: Penang Island\n",
      "Location: Bandar Baru Sentul\n",
      "Location: Teluk Panglima Garang\n",
      "Location: Kuala Lumpur\n",
      "Location not found.\n"
     ]
    }
   ],
   "source": [
    "for card in cards:\n",
    "        job_loc = card.find('a', \n",
    "                            attrs={'data-automation': 'jobLocation'})\n",
    "        if job_loc:\n",
    "            location = job_loc.text.strip()\n",
    "            print(\"Location:\", location)\n",
    "        else:\n",
    "            print(\"Location not found.\")"
   ]
  },
  {
   "cell_type": "markdown",
   "id": "01426bd1-5a29-45d4-87c7-547e8fba8a6d",
   "metadata": {},
   "source": [
    "### Salary"
   ]
  },
  {
   "cell_type": "code",
   "execution_count": 19,
   "id": "98a84fbe-9c2a-46e3-99e7-4d53dd81285e",
   "metadata": {},
   "outputs": [
    {
     "name": "stdout",
     "output_type": "stream",
     "text": [
      "Salary: MYR 800 - 1,000\n",
      "Salary: RM 800 – RM 1,200 per month\n",
      "Salary: RM 800 – RM 1,000 per month\n",
      "Salary undisclosed.\n",
      "Salary undisclosed.\n",
      "Salary undisclosed.\n",
      "Salary undisclosed.\n",
      "Salary: RM 1,500 per month\n",
      "Salary undisclosed.\n",
      "Salary undisclosed.\n",
      "Salary: RM 800 – RM 1,200 per month\n",
      "Salary: RM 4,500 – RM 6,500 per month\n",
      "Salary: MYR 2,500 - 3,500\n",
      "Salary undisclosed.\n",
      "Salary: RM 400 per month\n",
      "Salary undisclosed.\n",
      "Salary undisclosed.\n",
      "Salary: RM 1,500 – RM 2,000 per month\n",
      "Salary undisclosed.\n",
      "Salary undisclosed.\n",
      "Salary undisclosed.\n",
      "Salary: RM 500 – RM 700 per month\n",
      "Salary: RM 1,500 – RM 2,000 per month\n",
      "Salary undisclosed.\n",
      "Salary: RM 800 – RM 1,000 per month\n",
      "Salary undisclosed.\n",
      "Salary undisclosed.\n",
      "Salary undisclosed.\n",
      "Salary undisclosed.\n",
      "Salary: RM 650 – RM 950 per month\n",
      "Salary: RM 1,000 – RM 1,100 per month\n",
      "Salary: MYR 400 - 600\n",
      "Salary: RM 800 – RM 1,000 per month\n",
      "Salary: RM 4,200 – RM 6,200 per month\n",
      "Salary undisclosed.\n",
      "Salary: RM 600 – RM 800 per month\n",
      "Salary undisclosed.\n"
     ]
    }
   ],
   "source": [
    "for card in cards:\n",
    "        job_sal = card.find('span',                           \n",
    "                            attrs={'data-automation': 'jobSalary'})\n",
    "        if job_sal:\n",
    "            salary = job_sal.text.strip()\n",
    "            print(\"Salary:\", salary)\n",
    "        else:\n",
    "            print(\"Salary undisclosed.\")"
   ]
  },
  {
   "cell_type": "markdown",
   "id": "0c4521a3-2b74-4619-93f1-5858ba246147",
   "metadata": {},
   "source": [
    "### Summary"
   ]
  },
  {
   "cell_type": "code",
   "execution_count": 24,
   "id": "1aef4cb1-870b-43b6-8460-4a36c0bd7108",
   "metadata": {},
   "outputs": [
    {
     "name": "stdout",
     "output_type": "stream",
     "text": [
      "Summary: 1d ago\n",
      "Summary: 5d ago\n",
      "Summary: 7h ago\n",
      "Summary: 3d ago\n",
      "Summary: 5d ago\n",
      "Summary: 3d ago\n",
      "Summary not found.\n",
      "Summary: 8d ago\n",
      "Summary: 2d ago\n",
      "Summary: 4d ago\n",
      "Summary: 8d ago\n",
      "Summary: 17d ago\n",
      "Summary: 15d ago\n",
      "Summary: 12d ago\n",
      "Summary: 2d ago\n",
      "Summary not found.\n",
      "Summary: 11d ago\n",
      "Summary: 12d ago\n",
      "Summary: 2d ago\n",
      "Summary not found.\n",
      "Summary: 4d ago\n",
      "Summary: 12d ago\n",
      "Summary: 12d ago\n",
      "Summary: 12d ago\n",
      "Summary: 23d ago\n",
      "Summary: 5d ago\n",
      "Summary: 15d ago\n",
      "Summary: 5d ago\n",
      "Summary not found.\n",
      "Summary: 12d ago\n",
      "Summary: 16d ago\n",
      "Summary: 17d ago\n",
      "Summary: 18d ago\n",
      "Summary: 11d ago\n",
      "Summary: 11d ago\n",
      "Summary: 11d ago\n",
      "Summary not found.\n"
     ]
    }
   ],
   "source": [
    "for card in cards:\n",
    "        job_sum = card.find('span', {\"data-automation\": 'jobListingDate'})\n",
    "        if job_sum:\n",
    "            summary = job_sum.text.strip()\n",
    "            print(\"Summary:\", summary)\n",
    "        else:\n",
    "            print(\"Summary not found.\")"
   ]
  },
  {
   "cell_type": "markdown",
   "id": "eecf287c-a17d-45a7-81c5-effccf739c6f",
   "metadata": {},
   "source": [
    "### Date Posted"
   ]
  },
  {
   "cell_type": "code",
   "execution_count": 22,
   "id": "2bded019-08eb-4277-89d4-51cdfc29b7d4",
   "metadata": {},
   "outputs": [
    {
     "name": "stdout",
     "output_type": "stream",
     "text": [
      "Date Posted: 1d ago\n",
      "Date Posted: 5d ago\n",
      "Date Posted: 7h ago\n",
      "Date Posted: 3d ago\n",
      "Date Posted: 5d ago\n",
      "Date Posted: 3d ago\n",
      "Date Posted not found.\n",
      "Date Posted: 8d ago\n",
      "Date Posted: 2d ago\n",
      "Date Posted: 4d ago\n",
      "Date Posted: 8d ago\n",
      "Date Posted: 17d ago\n",
      "Date Posted: 15d ago\n",
      "Date Posted: 12d ago\n",
      "Date Posted: 2d ago\n",
      "Date Posted not found.\n",
      "Date Posted: 11d ago\n",
      "Date Posted: 12d ago\n",
      "Date Posted: 2d ago\n",
      "Date Posted not found.\n",
      "Date Posted: 4d ago\n",
      "Date Posted: 12d ago\n",
      "Date Posted: 12d ago\n",
      "Date Posted: 12d ago\n",
      "Date Posted: 23d ago\n",
      "Date Posted: 5d ago\n",
      "Date Posted: 15d ago\n",
      "Date Posted: 5d ago\n",
      "Date Posted not found.\n",
      "Date Posted: 12d ago\n",
      "Date Posted: 16d ago\n",
      "Date Posted: 17d ago\n",
      "Date Posted: 18d ago\n",
      "Date Posted: 11d ago\n",
      "Date Posted: 11d ago\n",
      "Date Posted: 11d ago\n",
      "Date Posted not found.\n"
     ]
    }
   ],
   "source": [
    "for card in cards:\n",
    "        job_sum = card.find('span',  \n",
    "                            attrs={'data-automation': 'jobListingDate'})\n",
    "        if job_sum:\n",
    "            summary = job_sum.text.strip()\n",
    "            print(\"Date Posted:\", summary)\n",
    "        else:\n",
    "            print(\"Date Posted not found.\")"
   ]
  },
  {
   "cell_type": "code",
   "execution_count": null,
   "id": "8169ddc7-f600-4863-bde4-6f51c73f2f9c",
   "metadata": {},
   "outputs": [],
   "source": []
  }
 ],
 "metadata": {
  "kernelspec": {
   "display_name": "Python 3 (ipykernel)",
   "language": "python",
   "name": "python3"
  },
  "language_info": {
   "codemirror_mode": {
    "name": "ipython",
    "version": 3
   },
   "file_extension": ".py",
   "mimetype": "text/x-python",
   "name": "python",
   "nbconvert_exporter": "python",
   "pygments_lexer": "ipython3",
   "version": "3.10.9"
  }
 },
 "nbformat": 4,
 "nbformat_minor": 5
}
