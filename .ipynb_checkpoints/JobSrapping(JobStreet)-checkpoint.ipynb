{
 "cells": [
  {
   "cell_type": "markdown",
   "id": "7b94fc23",
   "metadata": {},
   "source": [
    "# Jobstreet Job Scrapper"
   ]
  },
  {
   "cell_type": "code",
   "execution_count": 1,
   "id": "4bb94151",
   "metadata": {},
   "outputs": [],
   "source": [
    "import csv\n",
    "import time\n",
    "from datetime import datetime\n",
    "from bs4 import BeautifulSoup\n",
    "from selenium import webdriver\n",
    "from selenium.webdriver.common.by import By\n",
    "from selenium.webdriver.support.ui import WebDriverWait\n",
    "from selenium.webdriver.support import expected_conditions as EC"
   ]
  },
  {
   "cell_type": "code",
   "execution_count": 2,
   "id": "977b29a0",
   "metadata": {},
   "outputs": [],
   "source": [
    "url='https://www.jobstreet.com.my/internship-for-computer-science-students-jobs'\n",
    "test= 'https://www.jobstreet.com.my/companies/petronas-168551397678682/reviews'"
   ]
  },
  {
   "cell_type": "markdown",
   "id": "698ef9c6",
   "metadata": {},
   "source": [
    "### Extract raw html"
   ]
  },
  {
   "cell_type": "code",
   "execution_count": 3,
   "id": "6d47a0fb",
   "metadata": {},
   "outputs": [],
   "source": [
    "options = webdriver.ChromeOptions()\n",
    "options.add_argument('--ignore-certificate-errors')\n",
    "options.add_argument('--incognito')\n",
    "options.binary_location = r\"C:\\Program Files\\Google\\Chrome\\Application\\chrome.exe\"  "
   ]
  },
  {
   "cell_type": "code",
   "execution_count": 4,
   "id": "52430c27",
   "metadata": {},
   "outputs": [],
   "source": [
    "driver = webdriver.Chrome(options=options)\n",
    "driver.maximize_window()\n",
    "time.sleep(8)"
   ]
  },
  {
   "cell_type": "code",
   "execution_count": 5,
   "id": "a01e5dad-2b9f-4460-9ca7-e3d69a83736c",
   "metadata": {},
   "outputs": [],
   "source": [
    "driver.get(url)\n",
    "time.sleep(5)"
   ]
  },
  {
   "cell_type": "code",
   "execution_count": 6,
   "id": "ba7e9720-1103-4db9-851a-b11684d6335b",
   "metadata": {},
   "outputs": [],
   "source": [
    "soup = BeautifulSoup(driver.page_source, 'lxml')"
   ]
  },
  {
   "cell_type": "code",
   "execution_count": 7,
   "id": "9d60ff36-782b-4698-b228-6c38aa6be938",
   "metadata": {},
   "outputs": [],
   "source": [
    "cards = soup.find_all ('div','y735df0 _1akoxc50 _1akoxc56')"
   ]
  },
  {
   "cell_type": "code",
   "execution_count": 8,
   "id": "db3a5025",
   "metadata": {
    "scrolled": true
   },
   "outputs": [
    {
     "data": {
      "text/plain": [
       "37"
      ]
     },
     "execution_count": 8,
     "metadata": {},
     "output_type": "execute_result"
    }
   ],
   "source": [
    "len(cards)"
   ]
  },
  {
   "cell_type": "markdown",
   "id": "7b85c219",
   "metadata": {},
   "source": [
    "### Prototype the model with a single record "
   ]
  },
  {
   "cell_type": "markdown",
   "id": "9d52f681-08fa-4652-9e58-e9fb32deb428",
   "metadata": {
    "tags": []
   },
   "source": [
    "### Job Title"
   ]
  },
  {
   "cell_type": "code",
   "execution_count": 9,
   "id": "94a232d6",
   "metadata": {},
   "outputs": [
    {
     "name": "stdout",
     "output_type": "stream",
     "text": [
      "Job Title: Internship for Computer/IT Students\n",
      "Job Title: Internship for IT Students\n",
      "Job Title: Internship - Business Administration\n",
      "Job Title: Intern, IT - Digitalization Intern\n",
      "Job Title: Internship - Business Consultant\n",
      "Job Title: Internship Program – IT  (Selangor)\n",
      "Job Title: Internship Program – IT  (Selangor)\n",
      "Job Title: Information Technology (IT) Internship (Ipoh, Perak)\n",
      "Job Title: Internship Software Engineer (6 Months)\n",
      "Job Title: Digital Technology Intern\n",
      "Job Title: Internship for Computer / IT Students\n",
      "Job Title: Scientist for Computer Science\n",
      "Job Title: Software Support Consultant (Full Time & Internship)\n",
      "Job Title: Internship for IT Students\n",
      "Job Title: Internship for Various Department\n",
      "Job Title: Internship for Various Department\n",
      "Job Title: IT Intern\n",
      "Job Title: Internship for IT Students (Java, Mobile Developer) - RM2,000 for Top Students\n",
      "Job Title: Internship Program – Finance Shared Service Centre (Johor Bahru):\n",
      "Job Title: Internship Program – Finance Shared Service Centre (Johor Bahru):\n",
      "Job Title: Customer Support Intern (Medical Application)\n",
      "Job Title: Internship IT\n",
      "Job Title: Internship for IT Systems Engineer Students\n",
      "Job Title: IT Internship\n",
      "Job Title: Technical Support Intern, Digital Services\n",
      "Job Title: Premier Entrepreneur Program\n",
      "Job Title: Internship for Artificial Intelligence students (August Intake)\n",
      "Job Title: Internship\n",
      "Job Title: Internship\n",
      "Job Title: INTERNSHIP FOR IT STUDENT\n",
      "Job Title: Internship - Actuarial Science\n",
      "Job Title: Internship- Various Department\n",
      "Job Title: IT Technical Support Internship Trainee\n",
      "Job Title: Backend Developer (Golang/C#/Nodejs)\n",
      "Job Title: Computer Science\n",
      "Job Title: Internship for Administration Student\n",
      "Job title not found.\n"
     ]
    }
   ],
   "source": [
    "for card in cards:\n",
    "        job_title_tag = card.find('a',\n",
    "                                  attrs={'data-automation': 'jobTitle'})\n",
    "        if job_title_tag:\n",
    "            job_title = job_title_tag.text.strip()\n",
    "            print(\"Job Title:\", job_title)\n",
    "        else:\n",
    "            print(\"Job title not found.\")\n",
    "            job_title=''\n"
   ]
  },
  {
   "cell_type": "markdown",
   "id": "487f576e-6bcb-4406-8cc9-7c87e165e1f4",
   "metadata": {},
   "source": [
    "### Job URL "
   ]
  },
  {
   "cell_type": "code",
   "execution_count": 10,
   "id": "6670af47",
   "metadata": {
    "tags": []
   },
   "outputs": [
    {
     "name": "stdout",
     "output_type": "stream",
     "text": [
      "Job URL: https://www.jobstreet.com.my/job/75270814?type=standout&ref=search-standalone&origin=cardTitle#sol=e0a8b1dc3a4ebfae1ff310b9c1b4342d74cb86e4\n",
      "Job URL: https://www.jobstreet.com.my/job/75133242?type=standout&ref=search-standalone&origin=cardTitle#sol=2be746566b834ba7720be9241142ae95c57377c0\n",
      "Job URL: https://www.jobstreet.com.my/job/75292101?type=standard&ref=search-standalone&origin=cardTitle#sol=5179acf8dae1f4e081687e92da5b496a9ca2059f\n",
      "Job URL: https://www.jobstreet.com.my/job/75196143?type=standout&ref=search-standalone&origin=cardTitle#sol=519cac3985a48d14a1ed8ccc37e71f3ff108bd47\n",
      "Job URL: https://www.jobstreet.com.my/job/75123268?type=standout&ref=search-standalone&origin=cardTitle#sol=f8440cbbab84884c9735d361b70a88aa1d15b141\n",
      "Job URL: https://www.jobstreet.com.my/job/75185033?type=standard&ref=search-standalone&origin=cardTitle#sol=02da79e45fbf210c1ec8781992dbb4b3eab39361\n",
      "Job URL: https://www.jobstreet.com.my/job/75185033?type=standard&ref=search-standalone&origin=cardTitle#sol=02da79e45fbf210c1ec8781992dbb4b3eab39361\n",
      "Job URL: https://www.jobstreet.com.my/job/75081291?type=standout&ref=search-standalone&origin=cardTitle#sol=03f1aeaa766084ba13be859782ff9b9c04b3a997\n",
      "Job URL: https://www.jobstreet.com.my/job/75215829?type=standout&ref=search-standalone&origin=cardTitle#sol=06447171f335287ca3e6f5b3097db8473c60ad1a\n",
      "Job URL: https://www.jobstreet.com.my/job/75149813?type=standout&ref=search-standalone&origin=cardTitle#sol=5739cbf8a62e97c4b771c96218b7a8616b18fb6b\n",
      "Job URL: https://www.jobstreet.com.my/job/75081804?type=standout&ref=search-standalone&origin=cardTitle#sol=eabb80b248e6e034653a6b1d8579a8ce5b3057aa\n",
      "Job URL: https://www.jobstreet.com.my/job/74878576?type=standout&ref=search-standalone&origin=cardTitle#sol=53267d954bbaadf3f94fee613ea96ad4775e9836\n",
      "Job URL: https://www.jobstreet.com.my/job/74942822?type=standout&ref=search-standalone&origin=cardTitle#sol=0cb5a918b37a748c06148a45c5375b6fc177e336\n",
      "Job URL: https://www.jobstreet.com.my/job/74983603?type=standout&ref=search-standalone&origin=cardTitle#sol=3d0e9066d6501f0db2ab57bd874fb5ca8930af67\n",
      "Job URL: https://www.jobstreet.com.my/job/75216229?type=standard&ref=search-standalone&origin=cardTitle#sol=b10e9f7493b63aff67f3d935416c21804f2229c7\n",
      "Job URL: https://www.jobstreet.com.my/job/75216229?type=standard&ref=search-standalone&origin=cardTitle#sol=b10e9f7493b63aff67f3d935416c21804f2229c7\n",
      "Job URL: https://www.jobstreet.com.my/job/75015151?type=standout&ref=search-standalone&origin=cardTitle#sol=f31612aedb8113f2bafad66b2018b76a06405397\n",
      "Job URL: https://www.jobstreet.com.my/job/74954428?type=standout&ref=search-standalone&origin=cardTitle#sol=f5044e4916766732b4188efaad9b39e533044b5f\n",
      "Job URL: https://www.jobstreet.com.my/job/75228858?type=standard&ref=search-standalone&origin=cardTitle#sol=27a24d9ee2ec0b756e271f792c67f4b692e33a2a\n",
      "Job URL: https://www.jobstreet.com.my/job/75228858?type=standard&ref=search-standalone&origin=cardTitle#sol=27a24d9ee2ec0b756e271f792c67f4b692e33a2a\n",
      "Job URL: https://www.jobstreet.com.my/job/75167334?type=standard&ref=search-standalone&origin=cardTitle#sol=371761198edf7b09916fce188458cf2b0f35c938\n",
      "Job URL: https://www.jobstreet.com.my/job/74999172?type=standout&ref=search-standalone&origin=cardTitle#sol=8e6980cd2e9514adc0ead35bda48242b7cd2078e\n",
      "Job URL: https://www.jobstreet.com.my/job/74984409?type=standout&ref=search-standalone&origin=cardTitle#sol=869fa30ff89a1d0491236ca70c2c08dc8aa906a6\n",
      "Job URL: https://www.jobstreet.com.my/job/74995665?type=standout&ref=search-standalone&origin=cardTitle#sol=a56a0d4b8007830e16a1f7f14b90a77e62ecc6c2\n",
      "Job URL: https://www.jobstreet.com.my/job/74796100?type=standout&ref=search-standalone&origin=cardTitle#sol=0de3ee37d044e55b5e75ddeae1ea431cb45a667c\n",
      "Job URL: https://www.jobstreet.com.my/job/75091427?type=standard&ref=search-standalone&origin=cardTitle#sol=afe7073dc71b940d503b01b71085c26167f3dde9\n",
      "Job URL: https://www.jobstreet.com.my/job/74950822?type=standard&ref=search-standalone&origin=cardTitle#sol=fc4ce5e7c2141fa5d1c25e0bb3d7dd98e195e46b\n",
      "Job URL: https://www.jobstreet.com.my/job/75133155?type=standard&ref=search-standalone&origin=cardTitle#sol=6da3b7aa6b0b4f7a86215d26c400027ec5a7430c\n",
      "Job URL: https://www.jobstreet.com.my/job/75133155?type=standard&ref=search-standalone&origin=cardTitle#sol=6da3b7aa6b0b4f7a86215d26c400027ec5a7430c\n",
      "Job URL: https://www.jobstreet.com.my/job/74995566?type=standout&ref=search-standalone&origin=cardTitle#sol=d3106ca59bedf102273c1dd20b76ce181a331f06\n",
      "Job URL: https://www.jobstreet.com.my/job/74919013?type=standard&ref=search-standalone&origin=cardTitle#sol=e884d2f2884debf9db07fae2d021b844e6347dc5\n",
      "Job URL: https://www.jobstreet.com.my/job/74878637?type=standout&ref=search-standalone&origin=cardTitle#sol=b3fc9150d1bd05576344ebd9f432a7f720797454\n",
      "Job URL: https://www.jobstreet.com.my/job/74854201?type=standout&ref=search-standalone&origin=cardTitle#sol=83ca2899a11f08d4d2adddce91abd556ba4db7f4\n",
      "Job URL: https://www.jobstreet.com.my/job/75019273?type=standout&ref=search-standalone&origin=cardTitle#sol=795685b92e711699f47a2d2d7f5018f77279b52c\n",
      "Job URL: https://www.jobstreet.com.my/job/74476594?type=standout&ref=search-standalone&origin=cardTitle#sol=0f2af320348093b3f372dea41f92ed5a5d0faecb\n",
      "Job URL: https://www.jobstreet.com.my/job/75021248?type=standout&ref=search-standalone&origin=cardTitle#sol=0c45a081f79a4ebd77fb3e1e25a95bf04069937c\n",
      "Job URL not found.\n"
     ]
    }
   ],
   "source": [
    "for card in cards:\n",
    "    job_title_tag = card.find('a', href=True)    \n",
    "    if job_title_tag:\n",
    "            job_title = job_title_tag.text.strip()\n",
    "            job_url = 'https://www.jobstreet.com.my' + job_title_tag['href']\n",
    "            print(\"Job URL:\", job_url)\n",
    "    else:\n",
    "            print(\"Job URL not found.\")\n",
    "            job_url=''\n"
   ]
  },
  {
   "cell_type": "markdown",
   "id": "193a035b-d6ce-4ca6-b8e2-41b37e8a20f4",
   "metadata": {},
   "source": [
    "### Company"
   ]
  },
  {
   "cell_type": "code",
   "execution_count": 11,
   "id": "0399e3b5-af59-49c5-a72e-9d997252c1e5",
   "metadata": {},
   "outputs": [
    {
     "name": "stdout",
     "output_type": "stream",
     "text": [
      "Company: Rocketsview Management Sdn Bhd\n",
      "Company: Tony Ng & Associates Sdn Bhd\n",
      "Company: QARMAKROME PRODUCTIONS SDN. BHD.\n",
      "Company: KLK OLEO\n",
      "Company: Hitachi eBworx Sdn. Bhd.\n",
      "Company: Arkema Coating Resins Malaysia Sdn. Bhd.\n",
      "Company: Arkema Coating Resins Malaysia Sdn. Bhd.\n",
      "Company: KUALA LUMPUR KEPONG BERHAD (KLK)\n",
      "Company: Exact Asia Development Centre Sdn Bhd\n",
      "Company: The Alice Smith School\n",
      "Company: FootfallCam\n",
      "Company: ANHSIN TECHNOLOGY SDN BHD\n",
      "Company: KEMM ADVISORY SDN. BHD.\n",
      "Company: Zen Computer Systems Sdn Bhd\n",
      "Company: SUZUKI MALAYSIA SDN. BHD.\n",
      "Company: SUZUKI MALAYSIA SDN. BHD.\n",
      "Company: Safran Landing Systems Malaysia Sdn Bhd\n",
      "Company: iFAST Capital Sdn Bhd\n",
      "Company: Arkema Coating Resins Malaysia Sdn. Bhd.\n",
      "Company: Arkema Coating Resins Malaysia Sdn. Bhd.\n",
      "Company: Roche Services & Solutions Operations APAC\n",
      "Company: ABC COOKING STUDIO MALAYSIA SDN. BHD.\n",
      "Company: iFAST Capital Sdn Bhd\n",
      "Company: Maestro Swiss Industries Sdn. Bhd.\n",
      "Company: Ninja Logistics (Thailand) Limited.\n",
      "Company: MYS AGENCY\n",
      "Company: QL Maxincome Sdn Bhd (FamilyMart)\n",
      "Company: Samling Group of Companies\n",
      "Company: Samling Group of Companies\n",
      "Company: Hup Fatt Brothers Engineering (M) Sdn Bhd\n",
      "Company: Sun Life Malaysia Assurance Berhad\n",
      "Company: MiCare Sdn Bhd\n",
      "Company: UOB Kay Hian Securities (M) Sdn Bhd\n",
      "Company: LYJ EVENTS & MARKETING SDN BHD\n",
      "Company: Tenby International School Tropicana Aman\n",
      "Company: CID REALTORS SDN BHD\n",
      "Company not found.\n"
     ]
    }
   ],
   "source": [
    "for card in cards:\n",
    "        job_company = card.find('a', \n",
    "                                attrs={'data-automation': 'jobCompany'})\n",
    "        if job_company:\n",
    "            company = job_company.text.strip().replace(\"at \", \"\")\n",
    "            print(\"Company:\", company)\n",
    "        else:\n",
    "            print(\"Company not found.\")\n",
    "            company=''\n"
   ]
  },
  {
   "cell_type": "markdown",
   "id": "cc7e165f-62cb-4646-ac20-9eb36ec18943",
   "metadata": {},
   "source": [
    "### Location"
   ]
  },
  {
   "cell_type": "code",
   "execution_count": 12,
   "id": "716199b9-99a7-40f7-8e80-53a33ff43a71",
   "metadata": {},
   "outputs": [
    {
     "name": "stdout",
     "output_type": "stream",
     "text": [
      "Location: Kuala Lumpur\n",
      "Location: Penang\n",
      "Location: Selangor\n",
      "Location: Petaling Jaya\n",
      "Location: Petaling Jaya\n",
      "Location: Johor Bahru\n",
      "Location not found.\n",
      "Location: Ipoh\n",
      "Location: Kuala Lumpur\n",
      "Location: Kajang/Bangi/Serdang\n",
      "Location: Kuala Lumpur\n",
      "Location: Kuala Lumpur\n",
      "Location: George Town\n",
      "Location: Cyberjaya\n",
      "Location: Glenmarie\n",
      "Location not found.\n",
      "Location: Others\n",
      "Location: Kuala Lumpur\n",
      "Location: Johor Bahru\n",
      "Location not found.\n",
      "Location: Petaling Jaya\n",
      "Location: Kuala Lumpur\n",
      "Location: Kuala Lumpur\n",
      "Location: Butterworth\n",
      "Location: Subang Jaya\n",
      "Location: Ipoh\n",
      "Location: Bukit Jelutong\n",
      "Location: Miri\n",
      "Location not found.\n",
      "Location: Ulu Tiram\n",
      "Location: Kuala Lumpur\n",
      "Location: Bukit Jelutong\n",
      "Location: Penang Island\n",
      "Location: Bandar Baru Sentul\n",
      "Location: Teluk Panglima Garang\n",
      "Location: Kuala Lumpur\n",
      "Location not found.\n"
     ]
    }
   ],
   "source": [
    "for card in cards:\n",
    "        job_loc = card.find('a', \n",
    "                            attrs={'data-automation': 'jobLocation'})\n",
    "        if job_loc:\n",
    "            location = job_loc.text.strip()\n",
    "            print(\"Location:\", location)\n",
    "        else:\n",
    "            print(\"Location not found.\")\n",
    "            location=''"
   ]
  },
  {
   "cell_type": "markdown",
   "id": "01426bd1-5a29-45d4-87c7-547e8fba8a6d",
   "metadata": {},
   "source": [
    "### Salary"
   ]
  },
  {
   "cell_type": "code",
   "execution_count": 13,
   "id": "98a84fbe-9c2a-46e3-99e7-4d53dd81285e",
   "metadata": {},
   "outputs": [
    {
     "name": "stdout",
     "output_type": "stream",
     "text": [
      "Salary: MYR 800 - 1,000\n",
      "Salary: RM 800 – RM 1,200 per month\n",
      "Salary: RM 800 – RM 1,000 per month\n",
      "Salary undisclosed.\n",
      "Salary undisclosed.\n",
      "Salary undisclosed.\n",
      "Salary undisclosed.\n",
      "Salary: RM 1,500 per month\n",
      "Salary undisclosed.\n",
      "Salary undisclosed.\n",
      "Salary: RM 800 – RM 1,200 per month\n",
      "Salary: RM 4,500 – RM 6,500 per month\n",
      "Salary: MYR 2,500 - 3,500\n",
      "Salary undisclosed.\n",
      "Salary: RM 400 per month\n",
      "Salary undisclosed.\n",
      "Salary undisclosed.\n",
      "Salary: RM 1,500 – RM 2,000 per month\n",
      "Salary undisclosed.\n",
      "Salary undisclosed.\n",
      "Salary undisclosed.\n",
      "Salary: RM 500 – RM 700 per month\n",
      "Salary: RM 1,500 – RM 2,000 per month\n",
      "Salary undisclosed.\n",
      "Salary: RM 800 – RM 1,000 per month\n",
      "Salary undisclosed.\n",
      "Salary undisclosed.\n",
      "Salary undisclosed.\n",
      "Salary undisclosed.\n",
      "Salary: RM 650 – RM 950 per month\n",
      "Salary: RM 1,000 – RM 1,100 per month\n",
      "Salary: MYR 400 - 600\n",
      "Salary: RM 800 – RM 1,000 per month\n",
      "Salary: RM 4,200 – RM 6,200 per month\n",
      "Salary undisclosed.\n",
      "Salary: RM 600 – RM 800 per month\n",
      "Salary undisclosed.\n"
     ]
    }
   ],
   "source": [
    "for card in cards:\n",
    "        job_sal = card.find('span',                           \n",
    "                            attrs={'data-automation': 'jobSalary'})\n",
    "        if job_sal:\n",
    "            salary = job_sal.text.strip()\n",
    "            print(\"Salary:\", salary)\n",
    "        else:\n",
    "            print(\"Salary undisclosed.\")\n",
    "            salary='undisclosed'"
   ]
  },
  {
   "cell_type": "markdown",
   "id": "0c4521a3-2b74-4619-93f1-5858ba246147",
   "metadata": {},
   "source": [
    "### Summary"
   ]
  },
  {
   "cell_type": "code",
   "execution_count": 14,
   "id": "9868f94c-59c1-4376-a4c8-7c29dcf81149",
   "metadata": {},
   "outputs": [],
   "source": [
    "# Wait for the summary element to be visible\n",
    "wait = WebDriverWait(driver, 20)\n",
    "summary_element = wait.until(EC.visibility_of_element_located((By.CSS_SELECTOR, 'span[data-automation=\"jobShortDescription\"]')))"
   ]
  },
  {
   "cell_type": "code",
   "execution_count": 15,
   "id": "1aef4cb1-870b-43b6-8460-4a36c0bd7108",
   "metadata": {},
   "outputs": [
    {
     "name": "stdout",
     "output_type": "stream",
     "text": [
      "Summary: Participate in deployment of system including user requirement scoping, design, coding, testing and implementation.\n",
      "Summary: We are offering all Computer or IT students to do their internship with our team of Developers!Be part of a young, dynamic team of tech mavens that...\n",
      "Summary: We’d love to hear from you.\n",
      "Kindly email your portfolio or resume with attached photo to eddie_chng@qarmakrome.com\n",
      "Summary: This role will play a vital role in supporting the company's digital transformation initiatives.\n",
      "Summary: Assist in documenting user requirement, develop test scripts, user guides and training materials.\n",
      "Summary: Responsibilities: To manage IT inventory, such as asset tagging, equipment labeling &amp; test To handle back-up procedures.\n",
      "Summary not found.\n",
      "Summary: IT Internship under different sections: \n",
      "1. IT Helpdesk, Support & Projects\n",
      "2. CDM & Application Support\n",
      "3. Software Development\n",
      "Summary: This = the jobAs an intern in Exact, you will:  be part of the development team; be involved in developing business cloud solution; enjoy hybrid...\n",
      "Summary: Digital Technology Intern is required to support the department's daily operations includes troubleshooting, installation of the system.\n",
      "Summary: Are you a current student looking for an exciting internship? Do you want to work with a dynamic and innovative team on challenging projects that...\n",
      "Summary: 无论你是刚毕业或者有几年工作经验的计算机工程师和计算机科学家，我们都欢迎你加入人工智能与大数据分析研发和应用的行业。\n",
      "Summary: KEMM Advisory is looking for passionate Software Support Consultant to join our Information Technology Department.We are leading accounting firm in...\n",
      "Summary: Do you know that there is many job opportunities for IT graduates other than Software Developer or IT Engineer.\n",
      "Summary: Suzuki Malaysia Sdn Bhd is currently looking for young, dynamic and energetic students for internship placement.\n",
      "Summary not found.\n",
      "Summary: Responsibilities :A)   Projects  File Server Migration à Each Folders &amp; users profile authority documentation, Migration plan by process...\n",
      "Summary: You will join our IT team which is always buzzing with new ideas and incentive to innovate. Consisting of IT specialists who have diverse skills in...\n",
      "Summary: Job Responsibility: Assist in receiving of raw materials and finished goods and issuance to production. Update daily raw material consumption into...\n",
      "Summary not found.\n",
      "Summary: Customer Support Intern (Medical Application)\n",
      "Summary: To assist in first level technical support for system and application issues faced by staff and customers.\n",
      "Summary: Job Responsibilities: You will be part of the IT infrastructure projects’ team, working closely with the IT Infrastructure team and external vendors..\n",
      "Summary: IT internship\n",
      "Summary: To communicate with customers, collect feedback and ensure customer satisfaction, customer retention and opportunistic upselling of other services.\n",
      "Summary: ~Full time/Part time sales \n",
      "~Flexible working time \n",
      "~Free trip\n",
      "~Comprehensive Learning/training\n",
      "~Opportunity for promotion\n",
      "~Internship Program\n",
      "Summary: We are looking for intern to be part of our team forming solutions to improve retail operations using AI / Machine Learning / Computer Vision / BI\n",
      "Summary: Building Your Career : We take pride in supporting the learning and development. We will help you learn, develop and grow to your full potential.\n",
      "Summary not found.\n",
      "Summary: Execute regular maintenance procedures to ensure effective IT operations and enhance overall functionality\n",
      "Summary: Internship - Actuarial Science\n",
      "Summary: We have opening for Internship in our  Information Technology (IT),  Finance,  Human Resource,  Wellness Starting your internship with us, you will...\n",
      "Summary: To acquire knowledge on PC deployments to users to cater new OS upgrades.\n",
      "Summary: Develop & maintain scalable Fintech web/mobile applications, build & integration APIs using git & cloud. Expertise in Reactjs, NodeJS required.\n",
      "Summary: Computer Science\n",
      "Summary: Roles &amp; ResponsibilitiesWe offer internships opportunity for your Diploma or Bachelor's thesis, providing a great platform for you to learn...\n",
      "Summary not found.\n"
     ]
    }
   ],
   "source": [
    "for card in cards:\n",
    "        job_sum = card.find('span', {'data-automation': 'jobShortDescription'})\n",
    "        if job_sum:\n",
    "            summary = job_sum.text.strip()\n",
    "            print(\"Summary:\", summary)\n",
    "        else:\n",
    "            print(\"Summary not found.\")\n",
    "            summary=''"
   ]
  },
  {
   "cell_type": "markdown",
   "id": "eecf287c-a17d-45a7-81c5-effccf739c6f",
   "metadata": {},
   "source": [
    "### Date Posted"
   ]
  },
  {
   "cell_type": "code",
   "execution_count": 16,
   "id": "2bded019-08eb-4277-89d4-51cdfc29b7d4",
   "metadata": {},
   "outputs": [
    {
     "name": "stdout",
     "output_type": "stream",
     "text": [
      "Date Posted: 1d ago\n",
      "Date Posted: 5d ago\n",
      "Date Posted: 9h ago\n",
      "Date Posted: 3d ago\n",
      "Date Posted: 5d ago\n",
      "Date Posted: 3d ago\n",
      "Date Posted not found.\n",
      "Date Posted: 8d ago\n",
      "Date Posted: 2d ago\n",
      "Date Posted: 4d ago\n",
      "Date Posted: 8d ago\n",
      "Date Posted: 17d ago\n",
      "Date Posted: 15d ago\n",
      "Date Posted: 12d ago\n",
      "Date Posted: 2d ago\n",
      "Date Posted not found.\n",
      "Date Posted: 11d ago\n",
      "Date Posted: 12d ago\n",
      "Date Posted: 2d ago\n",
      "Date Posted not found.\n",
      "Date Posted: 4d ago\n",
      "Date Posted: 12d ago\n",
      "Date Posted: 12d ago\n",
      "Date Posted: 12d ago\n",
      "Date Posted: 23d ago\n",
      "Date Posted: 5d ago\n",
      "Date Posted: 15d ago\n",
      "Date Posted: 5d ago\n",
      "Date Posted not found.\n",
      "Date Posted: 12d ago\n",
      "Date Posted: 16d ago\n",
      "Date Posted: 17d ago\n",
      "Date Posted: 18d ago\n",
      "Date Posted: 11d ago\n",
      "Date Posted: 11d ago\n",
      "Date Posted: 11d ago\n",
      "Date Posted not found.\n"
     ]
    }
   ],
   "source": [
    "for card in cards:\n",
    "        job_date = card.find('span',  \n",
    "                            attrs={'data-automation': 'jobListingDate'})\n",
    "        if job_date:\n",
    "            date_posted = job_date.text.strip()\n",
    "            print(\"Date Posted:\", date_posted)\n",
    "        else:\n",
    "            print(\"Date Posted not found.\")\n",
    "            date_posted = ''\n"
   ]
  },
  {
   "cell_type": "code",
   "execution_count": null,
   "id": "8169ddc7-f600-4863-bde4-6f51c73f2f9c",
   "metadata": {},
   "outputs": [],
   "source": []
  }
 ],
 "metadata": {
  "kernelspec": {
   "display_name": "Python 3 (ipykernel)",
   "language": "python",
   "name": "python3"
  },
  "language_info": {
   "codemirror_mode": {
    "name": "ipython",
    "version": 3
   },
   "file_extension": ".py",
   "mimetype": "text/x-python",
   "name": "python",
   "nbconvert_exporter": "python",
   "pygments_lexer": "ipython3",
   "version": "3.10.9"
  }
 },
 "nbformat": 4,
 "nbformat_minor": 5
}
