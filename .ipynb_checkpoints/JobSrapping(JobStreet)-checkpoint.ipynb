{
 "cells": [
  {
   "cell_type": "markdown",
   "id": "7b94fc23",
   "metadata": {},
   "source": [
    "# Jobstreet Job Scrapper"
   ]
  },
  {
   "cell_type": "code",
   "execution_count": 1,
   "id": "4bb94151",
   "metadata": {},
   "outputs": [],
   "source": [
    "import csv\n",
    "import time\n",
    "from datetime import datetime\n",
    "from bs4 import BeautifulSoup\n",
    "from selenium import webdriver\n",
    "from selenium.webdriver.common.by import By\n",
    "from selenium.webdriver.support.ui import WebDriverWait\n",
    "from selenium.webdriver.support import expected_conditions as EC"
   ]
  },
  {
   "cell_type": "code",
   "execution_count": 2,
   "id": "977b29a0",
   "metadata": {},
   "outputs": [],
   "source": [
    "url='https://www.jobstreet.com.my/internship-for-computer-science-students-jobs'\n",
    "test= 'https://www.jobstreet.com.my/companies/petronas-168551397678682/reviews'"
   ]
  },
  {
   "cell_type": "markdown",
   "id": "698ef9c6",
   "metadata": {},
   "source": [
    "### Extract raw html"
   ]
  },
  {
   "cell_type": "code",
   "execution_count": 3,
   "id": "6d47a0fb",
   "metadata": {},
   "outputs": [],
   "source": [
    "options = webdriver.ChromeOptions()\n",
    "options.add_argument('--ignore-certificate-errors')\n",
    "options.add_argument('--incognito')\n",
    "options.binary_location = r\"C:\\Program Files\\Google\\Chrome\\Application\\chrome.exe\"  "
   ]
  },
  {
   "cell_type": "code",
   "execution_count": 4,
   "id": "52430c27",
   "metadata": {},
   "outputs": [],
   "source": [
    "driver = webdriver.Chrome(options=options)\n",
    "driver.maximize_window()\n",
    "time.sleep(8)"
   ]
  },
  {
   "cell_type": "code",
   "execution_count": 5,
   "id": "a01e5dad-2b9f-4460-9ca7-e3d69a83736c",
   "metadata": {},
   "outputs": [],
   "source": [
    "driver.get(url)\n",
    "time.sleep(5)"
   ]
  },
  {
   "cell_type": "code",
   "execution_count": 6,
   "id": "ba7e9720-1103-4db9-851a-b11684d6335b",
   "metadata": {},
   "outputs": [],
   "source": [
    "soup = BeautifulSoup(driver.page_source, 'lxml')"
   ]
  },
  {
   "cell_type": "code",
   "execution_count": 7,
   "id": "9d60ff36-782b-4698-b228-6c38aa6be938",
   "metadata": {},
   "outputs": [],
   "source": [
    "cards = soup.find_all ('div','y735df0 _1akoxc50 _1akoxc56')"
   ]
  },
  {
   "cell_type": "code",
   "execution_count": 8,
   "id": "db3a5025",
   "metadata": {
    "scrolled": true
   },
   "outputs": [
    {
     "data": {
      "text/plain": [
       "37"
      ]
     },
     "execution_count": 8,
     "metadata": {},
     "output_type": "execute_result"
    }
   ],
   "source": [
    "len(cards)"
   ]
  },
  {
   "cell_type": "markdown",
   "id": "7b85c219",
   "metadata": {},
   "source": [
    "### Prototype the model with a single record "
   ]
  },
  {
   "cell_type": "markdown",
   "id": "9d52f681-08fa-4652-9e58-e9fb32deb428",
   "metadata": {
    "tags": []
   },
   "source": [
    "### Job Title"
   ]
  },
  {
   "cell_type": "code",
   "execution_count": 9,
   "id": "94a232d6",
   "metadata": {},
   "outputs": [
    {
     "name": "stdout",
     "output_type": "stream",
     "text": [
      "Job Title: Internship for Computer/IT Students\n",
      "Job Title: Internship for IT Students\n",
      "Job Title: Internship - Business Administration\n",
      "Job Title: Intern, IT - Digitalization Intern\n",
      "Job Title: Internship - Business Consultant\n",
      "Job Title: Internship Program – IT  (Selangor)\n",
      "Job Title: Internship Program – IT  (Selangor)\n",
      "Job Title: Information Technology (IT) Internship (Ipoh, Perak)\n",
      "Job Title: Internship Software Engineer (6 Months)\n",
      "Job Title: Digital Technology Intern\n",
      "Job Title: Internship for Computer / IT Students\n",
      "Job Title: Scientist for Computer Science\n",
      "Job Title: Software Support Consultant (Full Time & Internship)\n",
      "Job Title: Internship for IT Students\n",
      "Job Title: Customer Support Intern (Medical Application)\n",
      "Job Title: Internship IT\n",
      "Job Title: IT Intern\n",
      "Job Title: Internship for IT Students (Java, Mobile Developer) - RM2,000 for Top Students\n",
      "Job Title: Internship for Various Department\n",
      "Job Title: Internship for Various Department\n",
      "Job Title: Internship for IT Systems Engineer Students\n",
      "Job Title: Internship Program – Finance Shared Service Centre (Johor Bahru):\n",
      "Job Title: Internship Program – Finance Shared Service Centre (Johor Bahru):\n",
      "Job Title: IT Internship\n",
      "Job Title: Technical Support Intern, Digital Services\n",
      "Job Title: Premier Entrepreneur Program\n",
      "Job Title: Internship for Artificial Intelligence students (August Intake)\n",
      "Job Title: Internship\n",
      "Job Title: Internship\n",
      "Job Title: INTERNSHIP FOR IT STUDENT\n",
      "Job Title: Computer Science\n",
      "Job Title: Internship - Actuarial Science\n",
      "Job Title: Internship- Various Department\n",
      "Job Title: IT Technical Support Internship Trainee\n",
      "Job Title: Backend Developer (Golang/C#/Nodejs)\n",
      "Job Title: Internship for Administration Student\n",
      "Job title not found.\n"
     ]
    }
   ],
   "source": [
    "for card in cards:\n",
    "        job_title_tag = card.find('a',\n",
    "                                  attrs={'data-automation': 'jobTitle'})\n",
    "        if job_title_tag:\n",
    "            job_title = job_title_tag.text.strip()\n",
    "            print(\"Job Title:\", job_title)\n",
    "        else:\n",
    "            print(\"Job title not found.\")\n",
    "            job_title=''\n"
   ]
  },
  {
   "cell_type": "markdown",
   "id": "487f576e-6bcb-4406-8cc9-7c87e165e1f4",
   "metadata": {},
   "source": [
    "### Job URL, Description and Rating"
   ]
  },
  {
   "cell_type": "code",
   "execution_count": 10,
   "id": "6670af47",
   "metadata": {
    "tags": []
   },
   "outputs": [
    {
     "name": "stdout",
     "output_type": "stream",
     "text": [
      "Job URL: https://www.jobstreet.com.my/job/75270814?type=standout&ref=search-standalone&origin=cardTitle#sol=8190323b49478dbee2788cce2045a396287d1a93\n",
      "Review URL: https://www.jobstreet.com.my/companies/rocketsview-168550145018241/reviews?jobId=75270814\n",
      "Working at Rocketsview\n",
      "Overall rating:  4.6\n",
      "Number of ratings:  18\n",
      "Job URL: https://www.jobstreet.com.my/job/75133242?type=standout&ref=search-standalone&origin=cardTitle#sol=7e1cde736b777beae1554967f2c49f59611a007a\n",
      "Review URL: https://www.jobstreet.com.my/companies/tony-ng-n-associates-168553891997759/reviews?jobId=75133242\n",
      "Working at Tony Ng & Associates\n",
      "Overall rating:  3.2\n",
      "Number of ratings:  5\n",
      "Job URL: https://www.jobstreet.com.my/job/75292101?type=standard&ref=search-standalone&origin=cardTitle#sol=b9cafce71952cea5ef3e90d327ec79133f99559c\n",
      "Job URL: https://www.jobstreet.com.my/job/75196143?type=standout&ref=search-standalone&origin=cardTitle#sol=913cb01277133fb82b81558bbdad47c11e71a9d3\n",
      "Review URL: https://www.jobstreet.com.my/companies/klk-oleo-168550145329338/reviews?jobId=75196143\n",
      "Working at KLK OLEO\n",
      "Overall rating:  3.9\n",
      "Number of ratings:  11\n",
      "Job URL: https://www.jobstreet.com.my/job/75123268?type=standout&ref=search-standalone&origin=cardTitle#sol=d006ddc191e91aa86c355fff894c86c814036d4b\n",
      "Review URL: https://www.jobstreet.com.my/companies/hitachi-ebworx-168554357820170/reviews?jobId=75123268\n",
      "Working at Hitachi eBworx\n",
      "Overall rating:  3.3\n",
      "Number of ratings:  62\n",
      "Job URL: https://www.jobstreet.com.my/job/75185033?type=standard&ref=search-standalone&origin=cardTitle#sol=0dce1f421334ec6da39b57765e1b5fdd99ffbd9f\n",
      "Review URL: https://www.jobstreet.com.my/companies/arkema-168554128490444/reviews?jobId=75185033\n",
      "Working at Arkema\n",
      "Overall rating:  4.4\n",
      "Number of ratings:  12\n",
      "Job URL: https://www.jobstreet.com.my/job/75185033?type=standard&ref=search-standalone&origin=cardTitle#sol=0dce1f421334ec6da39b57765e1b5fdd99ffbd9f\n",
      "Review URL: https://www.jobstreet.com.my/companies/arkema-168554128490444/reviews?jobId=75185033\n",
      "Working at Arkema\n",
      "Overall rating:  4.4\n",
      "Number of ratings:  12\n",
      "Job URL: https://www.jobstreet.com.my/job/75081291?type=standout&ref=search-standalone&origin=cardTitle#sol=2a7597e3224d4fe13841f1b4df4f823de1afd3b8\n",
      "Review URL: https://www.jobstreet.com.my/companies/kuala-lumpur-kepong-berhad-168556828562725/reviews?jobId=75081291\n",
      "Working at Kuala Lumpur Kepong Berhad\n",
      "Overall rating:  3.7\n",
      "Number of ratings:  39\n",
      "Job URL: https://www.jobstreet.com.my/job/75215829?type=standout&ref=search-standalone&origin=cardTitle#sol=9180a3cf686ee79b7a39ce5d4d57362d7d7177c7\n",
      "Review URL: https://www.jobstreet.com.my/companies/exact-asia-development-centre-168553640777789/reviews?jobId=75215829\n",
      "Working at Exact Asia Development Centre Sdn Bhd\n",
      "Overall rating:  4.1\n",
      "Number of ratings:  35\n",
      "Job URL: https://www.jobstreet.com.my/job/75149813?type=standout&ref=search-standalone&origin=cardTitle#sol=a1627e6bb5f23334b6c69c5abb2b8004b9833bfa\n",
      "Review URL: https://www.jobstreet.com.my/companies/the-alice-smith-school-168492771642436/reviews?jobId=75149813\n",
      "Working at The Alice Smith School\n",
      "Overall rating:  4.3\n",
      "Number of ratings:  14\n",
      "Job URL: https://www.jobstreet.com.my/job/75081804?type=standout&ref=search-standalone&origin=cardTitle#sol=96fb47563901623fb98fea472c9c13de549ea878\n",
      "Review URL: https://www.jobstreet.com.my/companies/footfallcam-168554412276425/reviews?jobId=75081804\n",
      "Working at FootfallCam\n",
      "Overall rating:  3.9\n",
      "Number of ratings:  94\n",
      "Job URL: https://www.jobstreet.com.my/job/74878576?type=standout&ref=search-standalone&origin=cardTitle#sol=9263f8b774e999fa00d69f1aa21374220e53e161\n",
      "Job URL: https://www.jobstreet.com.my/job/74942822?type=standout&ref=search-standalone&origin=cardTitle#sol=5d04b146ad512cd7f595fb528de44a9810604b64\n",
      "Job URL: https://www.jobstreet.com.my/job/74983603?type=standout&ref=search-standalone&origin=cardTitle#sol=50474d521a0ad9d0d636c7f1a4026523f9e3962d\n",
      "Review URL: https://www.jobstreet.com.my/companies/zen-computer-systems-168556875948094/reviews?jobId=74983603\n",
      "Working at Zen Computer Systems Sdn Bhd\n",
      "Overall rating:  4.2\n",
      "Number of ratings:  11\n",
      "Job URL: https://www.jobstreet.com.my/job/75167334?type=standard&ref=search-standalone&origin=cardTitle#sol=498e81d8e6c4204f3569779be3422fe60844a160\n",
      "Review URL: https://www.jobstreet.com.my/companies/roche-168553946317737/reviews?jobId=75167334\n",
      "Working at Roche\n",
      "Overall rating:  4.1\n",
      "Number of ratings:  50\n",
      "Job URL: https://www.jobstreet.com.my/job/74999172?type=standout&ref=search-standalone&origin=cardTitle#sol=d8c9a6e4e7aff98d4a588a25790f85b315f4cbfa\n",
      "Review URL: https://www.jobstreet.com.my/companies/abc-cooking-studio-168550569199778/reviews?jobId=74999172\n",
      "Working at ABC Cooking Studio\n",
      "Overall rating:  3.9\n",
      "Number of ratings:  9\n",
      "Job URL: https://www.jobstreet.com.my/job/75015151?type=standout&ref=search-standalone&origin=cardTitle#sol=5bf551315cf7a38c85103ab8c6a4f7e77ed4bd6c\n",
      "Review URL: https://www.jobstreet.com.my/companies/safran-landing-systems-168551996231110/reviews?jobId=75015151\n",
      "Working at Safran Landing Systems\n",
      "Overall rating:  4.5\n",
      "Number of ratings:  15\n",
      "Job URL: https://www.jobstreet.com.my/job/74954428?type=standout&ref=search-standalone&origin=cardTitle#sol=9b6e1f62516e8dfdd8d95cb5b8ae51ea55162386\n",
      "Review URL: https://www.jobstreet.com.my/companies/ifast-capital-168552969685227/reviews?jobId=74954428\n",
      "Working at iFAST Capital Sdn Bhd\n",
      "Overall rating:  4.0\n",
      "Number of ratings:  21\n",
      "Job URL: https://www.jobstreet.com.my/job/75216229?type=standard&ref=search-standalone&origin=cardTitle#sol=a0a422416d9ccdd97a706f285b8ff33098f23091\n",
      "Review URL: https://www.jobstreet.com.my/companies/suzuki-malaysia-168557319489546/reviews?jobId=75216229\n",
      "Working at Suzuki Malaysia\n",
      "Overall rating:  3.6\n",
      "Number of ratings:  12\n",
      "Job URL: https://www.jobstreet.com.my/job/75216229?type=standard&ref=search-standalone&origin=cardTitle#sol=a0a422416d9ccdd97a706f285b8ff33098f23091\n",
      "Review URL: https://www.jobstreet.com.my/companies/suzuki-malaysia-168557319489546/reviews?jobId=75216229\n",
      "Working at Suzuki Malaysia\n",
      "Overall rating:  3.6\n",
      "Number of ratings:  12\n",
      "Job URL: https://www.jobstreet.com.my/job/74984409?type=standout&ref=search-standalone&origin=cardTitle#sol=63438c386722afa883f00798a28b4b553ecb5a6a\n",
      "Review URL: https://www.jobstreet.com.my/companies/ifast-capital-168552969685227/reviews?jobId=74984409\n",
      "Working at iFAST Capital Sdn Bhd\n",
      "Overall rating:  4.0\n",
      "Number of ratings:  21\n",
      "Job URL: https://www.jobstreet.com.my/job/75228858?type=standard&ref=search-standalone&origin=cardTitle#sol=e670798d5896e5932acc5f5413b8a8ef283f8cf5\n",
      "Review URL: https://www.jobstreet.com.my/companies/arkema-168554128490444/reviews?jobId=75228858\n",
      "Working at Arkema\n",
      "Overall rating:  4.4\n",
      "Number of ratings:  12\n",
      "Job URL: https://www.jobstreet.com.my/job/75228858?type=standard&ref=search-standalone&origin=cardTitle#sol=e670798d5896e5932acc5f5413b8a8ef283f8cf5\n",
      "Review URL: https://www.jobstreet.com.my/companies/arkema-168554128490444/reviews?jobId=75228858\n",
      "Working at Arkema\n",
      "Overall rating:  4.4\n",
      "Number of ratings:  12\n",
      "Job URL: https://www.jobstreet.com.my/job/74995665?type=standout&ref=search-standalone&origin=cardTitle#sol=9875a04ec98435df72256c6d2489ad35cd1e8645\n",
      "Job URL: https://www.jobstreet.com.my/job/74796100?type=standout&ref=search-standalone&origin=cardTitle#sol=2bd68c0f4f412df8a6bda4760125871fcdddea5d\n",
      "Review URL: https://www.jobstreet.com.my/companies/ninja-van-168544604188268/reviews?jobId=74796100\n",
      "Working at Ninja Van\n",
      "Overall rating:  4.1\n",
      "Number of ratings:  34\n",
      "Job URL: https://www.jobstreet.com.my/job/75091427?type=standard&ref=search-standalone&origin=cardTitle#sol=d37da8e2d09628c3ad2ae03444ae410190da36ca\n",
      "Job URL: https://www.jobstreet.com.my/job/74950822?type=standard&ref=search-standalone&origin=cardTitle#sol=6d36cdc40a8b8c159bda988f1b12e7d9bb4ebbab\n",
      "Review URL: https://www.jobstreet.com.my/companies/familymart-168550459911073/reviews?jobId=74950822\n",
      "Working at FamilyMart\n",
      "Overall rating:  4.1\n",
      "Number of ratings:  29\n",
      "Job URL: https://www.jobstreet.com.my/job/75133155?type=standard&ref=search-standalone&origin=cardTitle#sol=a4353438344b5715e95022666ada56ebe99de735\n",
      "Review URL: https://www.jobstreet.com.my/companies/samling-group-of-companies-168553972879146/reviews?jobId=75133155\n",
      "Working at Samling Group Of Companies\n",
      "Overall rating:  4.1\n",
      "Number of ratings:  16\n",
      "Job URL: https://www.jobstreet.com.my/job/75133155?type=standard&ref=search-standalone&origin=cardTitle#sol=a4353438344b5715e95022666ada56ebe99de735\n",
      "Review URL: https://www.jobstreet.com.my/companies/samling-group-of-companies-168553972879146/reviews?jobId=75133155\n",
      "Working at Samling Group Of Companies\n",
      "Overall rating:  4.1\n",
      "Number of ratings:  16\n",
      "Job URL: https://www.jobstreet.com.my/job/74995566?type=standout&ref=search-standalone&origin=cardTitle#sol=d823d3dae8d5119d9da80e28cafc800410442b5c\n",
      "Job URL: https://www.jobstreet.com.my/job/74476594?type=standout&ref=search-standalone&origin=cardTitle#sol=c914dfbaa1e8134cae3a693feb3d778cd1d1b087\n",
      "Review URL: https://www.jobstreet.com.my/companies/tenby-schools-168553234985267/reviews?jobId=74476594\n",
      "Working at Tenby Schools\n",
      "Overall rating:  3.5\n",
      "Number of ratings:  31\n",
      "Job URL: https://www.jobstreet.com.my/job/74919013?type=standard&ref=search-standalone&origin=cardTitle#sol=3f7994a809ec8c1d33c979b856d509e4c349bc68\n",
      "Review URL: https://www.jobstreet.com.my/companies/sun-life-168542782590282/reviews?jobId=74919013\n",
      "Working at Sun Life\n",
      "Overall rating:  3.6\n",
      "Number of ratings:  39\n",
      "Job URL: https://www.jobstreet.com.my/job/74878637?type=standout&ref=search-standalone&origin=cardTitle#sol=7ddfacf623b1b10382efd09d1e059c02be85118e\n",
      "Review URL: https://www.jobstreet.com.my/companies/micare-168549967747410/reviews?jobId=74878637\n",
      "Working at MiCARE\n",
      "Overall rating:  4.1\n",
      "Number of ratings:  40\n",
      "Job URL: https://www.jobstreet.com.my/job/74854201?type=standout&ref=search-standalone&origin=cardTitle#sol=98eb75601a83f18db7dca077bb1f96807a914938\n",
      "Review URL: https://www.jobstreet.com.my/companies/uob-kay-hian-168544594539801/reviews?jobId=74854201\n",
      "Working at UOB Kay Hian\n",
      "Overall rating:  3.8\n",
      "Number of ratings:  22\n",
      "Job URL: https://www.jobstreet.com.my/job/75019273?type=standout&ref=search-standalone&origin=cardTitle#sol=0a24edff5702be2a4d5698b65a352fbe61cc817e\n",
      "Job URL: https://www.jobstreet.com.my/job/75021248?type=standout&ref=search-standalone&origin=cardTitle#sol=cf5e053a4da18aeed436a5702f08ed006b4f081c\n",
      "Job URL not found.\n"
     ]
    }
   ],
   "source": [
    "for card in cards:\n",
    "    job_title_tag = card.find('a',\n",
    "                              attrs={'data-automation': 'jobTitle'})\n",
    "    \n",
    "    \n",
    "    if job_title_tag:\n",
    "            job_title = job_title_tag.text.strip()\n",
    "            job_url = 'https://www.jobstreet.com.my' + job_title_tag['href']\n",
    "            print(\"Job URL:\", job_url)\n",
    "            \n",
    "            #Navigate to Job Listing\n",
    "            driver.get(job_url)\n",
    "\n",
    "             # Wait for the page to load\n",
    "            WebDriverWait(driver, 10).until(EC.presence_of_element_located((By.CSS_SELECTOR, '[data-automation=\"jobAdDetails\"]')))\n",
    "            \n",
    "            soup = BeautifulSoup(driver.page_source, 'lxml')\n",
    "            \n",
    "            ##get job details\n",
    "            job_sum = soup.find('div', {'data-automation': 'jobAdDetails'})\n",
    "            if job_sum:\n",
    "                    summary = job_sum.text.strip().lower()\n",
    "            else:\n",
    "                    print(\"Summary not found.\")\n",
    "                    summary=''\n",
    "                    \n",
    "                    \n",
    "            ##get review url\n",
    "            job_review_tag = soup.find('a',\n",
    "                                          attrs={'data-automation': 'job-header-company-review-link'})\n",
    "\n",
    "\n",
    "            if job_review_tag:\n",
    "               \n",
    "                rev_url = 'https://www.jobstreet.com.my' + job_review_tag['href']\n",
    "                print(\"Review URL:\", rev_url)\n",
    "                \n",
    "                ##navigate to review page\n",
    "                driver.get(rev_url)\n",
    "               \n",
    "                soup = BeautifulSoup(driver.page_source, 'lxml')\n",
    "                \n",
    "                ##get ratings\n",
    "                \n",
    "                ##Company \n",
    "                companyTag= soup.find('h3',class_='_1aqt7fw0 hecla4y w9oea40 w9oea4l h4n4qm4 w9oea4s w9oea421')\n",
    "                company = companyTag.text.strip()               \n",
    "            \n",
    "                ##overall\n",
    "                overalltag= soup.find('h1',class_='_1aqt7fw0 hecla4y w9oea40 w9oea4l h4n4qm4 w9oea4m w9oea421')\n",
    "                overallR = overalltag.text.strip()\n",
    "                \n",
    "                ##number of ratings\n",
    "                numRTag= soup.find('strong',class_='w9oea43')\n",
    "                numR = numRTag.text.strip()\n",
    "                \n",
    "               \n",
    "                                \n",
    "                print (company)\n",
    "                \n",
    "                print(\"Overall rating: \",overallR)\n",
    "                print(\"Number of ratings: \", numR)\n",
    "\n",
    "\n",
    "            else:\n",
    "                job_review_tag=''\n",
    "\n",
    "    else:\n",
    "            print(\"Job URL not found.\")\n",
    "            job_url=''\n",
    "    \n"
   ]
  },
  {
   "cell_type": "markdown",
   "id": "193a035b-d6ce-4ca6-b8e2-41b37e8a20f4",
   "metadata": {},
   "source": [
    "### Company"
   ]
  },
  {
   "cell_type": "code",
   "execution_count": 11,
   "id": "6970c186-95bf-4384-a74d-d0e30bf4290b",
   "metadata": {},
   "outputs": [],
   "source": [
    "##navigate back to job page\n",
    "\n",
    "driver.get(url)"
   ]
  },
  {
   "cell_type": "code",
   "execution_count": 12,
   "id": "0399e3b5-af59-49c5-a72e-9d997252c1e5",
   "metadata": {},
   "outputs": [
    {
     "name": "stdout",
     "output_type": "stream",
     "text": [
      "Company: Rocketsview Management Sdn Bhd\n",
      "Company: Tony Ng & Associates Sdn Bhd\n",
      "Company: QARMAKROME PRODUCTIONS SDN. BHD.\n",
      "Company: KLK OLEO\n",
      "Company: Hitachi eBworx Sdn. Bhd.\n",
      "Company: Arkema Coating Resins Malaysia Sdn. Bhd.\n",
      "Company: Arkema Coating Resins Malaysia Sdn. Bhd.\n",
      "Company: KUALA LUMPUR KEPONG BERHAD (KLK)\n",
      "Company: Exact Asia Development Centre Sdn Bhd\n",
      "Company: The Alice Smith School\n",
      "Company: FootfallCam\n",
      "Company: ANHSIN TECHNOLOGY SDN BHD\n",
      "Company: KEMM ADVISORY SDN. BHD.\n",
      "Company: Zen Computer Systems Sdn Bhd\n",
      "Company: Roche Services & Solutions Operations APAC\n",
      "Company: ABC COOKING STUDIO MALAYSIA SDN. BHD.\n",
      "Company: Safran Landing Systems Malaysia Sdn Bhd\n",
      "Company: iFAST Capital Sdn Bhd\n",
      "Company: SUZUKI MALAYSIA SDN. BHD.\n",
      "Company: SUZUKI MALAYSIA SDN. BHD.\n",
      "Company: iFAST Capital Sdn Bhd\n",
      "Company: Arkema Coating Resins Malaysia Sdn. Bhd.\n",
      "Company: Arkema Coating Resins Malaysia Sdn. Bhd.\n",
      "Company: Maestro Swiss Industries Sdn. Bhd.\n",
      "Company: Ninja Logistics (Thailand) Limited.\n",
      "Company: MYS AGENCY\n",
      "Company: QL Maxincome Sdn Bhd (FamilyMart)\n",
      "Company: Samling Group of Companies\n",
      "Company: Samling Group of Companies\n",
      "Company: Hup Fatt Brothers Engineering (M) Sdn Bhd\n",
      "Company: Tenby International School Tropicana Aman\n",
      "Company: Sun Life Malaysia Assurance Berhad\n",
      "Company: MiCare Sdn Bhd\n",
      "Company: UOB Kay Hian Securities (M) Sdn Bhd\n",
      "Company: LYJ EVENTS & MARKETING SDN BHD\n",
      "Company: CID REALTORS SDN BHD\n",
      "Company not found.\n"
     ]
    }
   ],
   "source": [
    "for card in cards:\n",
    "        job_company = card.find('a', \n",
    "                                attrs={'data-automation': 'jobCompany'})\n",
    "        if job_company:\n",
    "            company = job_company.text.strip().replace(\"at \", \"\")\n",
    "            print(\"Company:\", company)\n",
    "        else:\n",
    "            print(\"Company not found.\")\n",
    "            company=''\n"
   ]
  },
  {
   "cell_type": "markdown",
   "id": "cc7e165f-62cb-4646-ac20-9eb36ec18943",
   "metadata": {},
   "source": [
    "### Location"
   ]
  },
  {
   "cell_type": "code",
   "execution_count": 13,
   "id": "716199b9-99a7-40f7-8e80-53a33ff43a71",
   "metadata": {},
   "outputs": [
    {
     "name": "stdout",
     "output_type": "stream",
     "text": [
      "Location: Kuala Lumpur\n",
      "Location: Penang\n",
      "Location: Selangor\n",
      "Location: Petaling Jaya\n",
      "Location: Petaling Jaya\n",
      "Location: Johor Bahru\n",
      "Location not found.\n",
      "Location: Ipoh\n",
      "Location: Kuala Lumpur\n",
      "Location: Kajang/Bangi/Serdang\n",
      "Location: Kuala Lumpur\n",
      "Location: Kuala Lumpur\n",
      "Location: George Town\n",
      "Location: Cyberjaya\n",
      "Location: Petaling Jaya\n",
      "Location: Kuala Lumpur\n",
      "Location: Others\n",
      "Location: Kuala Lumpur\n",
      "Location: Glenmarie\n",
      "Location not found.\n",
      "Location: Kuala Lumpur\n",
      "Location: Johor Bahru\n",
      "Location not found.\n",
      "Location: Butterworth\n",
      "Location: Subang Jaya\n",
      "Location: Ipoh\n",
      "Location: Bukit Jelutong\n",
      "Location: Miri\n",
      "Location not found.\n",
      "Location: Ulu Tiram\n",
      "Location: Teluk Panglima Garang\n",
      "Location: Kuala Lumpur\n",
      "Location: Bukit Jelutong\n",
      "Location: Penang Island\n",
      "Location: Bandar Baru Sentul\n",
      "Location: Kuala Lumpur\n",
      "Location not found.\n"
     ]
    }
   ],
   "source": [
    "for card in cards:\n",
    "        job_loc = card.find('a', \n",
    "                            attrs={'data-automation': 'jobLocation'})\n",
    "        if job_loc:\n",
    "            location = job_loc.text.strip()\n",
    "            print(\"Location:\", location)\n",
    "        else:\n",
    "            print(\"Location not found.\")\n",
    "            location=''"
   ]
  },
  {
   "cell_type": "markdown",
   "id": "01426bd1-5a29-45d4-87c7-547e8fba8a6d",
   "metadata": {},
   "source": [
    "### Salary"
   ]
  },
  {
   "cell_type": "code",
   "execution_count": 14,
   "id": "98a84fbe-9c2a-46e3-99e7-4d53dd81285e",
   "metadata": {},
   "outputs": [
    {
     "name": "stdout",
     "output_type": "stream",
     "text": [
      "Salary: MYR 800 - 1,000\n",
      "Salary: RM 800 – RM 1,200 per month\n",
      "Salary: RM 800 – RM 1,000 per month\n",
      "Salary undisclosed.\n",
      "Salary undisclosed.\n",
      "Salary undisclosed.\n",
      "Salary undisclosed.\n",
      "Salary: RM 1,500 per month\n",
      "Salary undisclosed.\n",
      "Salary undisclosed.\n",
      "Salary: RM 800 – RM 1,200 per month\n",
      "Salary: RM 4,500 – RM 6,500 per month\n",
      "Salary: MYR 2,500 - 3,500\n",
      "Salary undisclosed.\n",
      "Salary undisclosed.\n",
      "Salary: RM 500 – RM 700 per month\n",
      "Salary undisclosed.\n",
      "Salary: RM 1,500 – RM 2,000 per month\n",
      "Salary: RM 400 per month\n",
      "Salary undisclosed.\n",
      "Salary: RM 1,500 – RM 2,000 per month\n",
      "Salary undisclosed.\n",
      "Salary undisclosed.\n",
      "Salary undisclosed.\n",
      "Salary: RM 800 – RM 1,000 per month\n",
      "Salary undisclosed.\n",
      "Salary undisclosed.\n",
      "Salary undisclosed.\n",
      "Salary undisclosed.\n",
      "Salary: RM 650 – RM 950 per month\n",
      "Salary undisclosed.\n",
      "Salary: RM 1,000 – RM 1,100 per month\n",
      "Salary: MYR 400 - 600\n",
      "Salary: RM 800 – RM 1,000 per month\n",
      "Salary: RM 4,200 – RM 6,200 per month\n",
      "Salary: RM 600 – RM 800 per month\n",
      "Salary undisclosed.\n"
     ]
    }
   ],
   "source": [
    "for card in cards:\n",
    "        job_sal = card.find('span',                           \n",
    "                            attrs={'data-automation': 'jobSalary'})\n",
    "        if job_sal:\n",
    "            salary = job_sal.text.strip()\n",
    "            print(\"Salary:\", salary)\n",
    "        else:\n",
    "            print(\"Salary undisclosed.\")\n",
    "            salary='undisclosed'"
   ]
  },
  {
   "cell_type": "markdown",
   "id": "04f86ad4-7dd6-41f8-bbb5-919856ee1466",
   "metadata": {},
   "source": [
    "## "
   ]
  },
  {
   "cell_type": "markdown",
   "id": "eecf287c-a17d-45a7-81c5-effccf739c6f",
   "metadata": {},
   "source": [
    "### Date Posted"
   ]
  },
  {
   "cell_type": "code",
   "execution_count": 15,
   "id": "2bded019-08eb-4277-89d4-51cdfc29b7d4",
   "metadata": {},
   "outputs": [
    {
     "name": "stdout",
     "output_type": "stream",
     "text": [
      "Date Posted: 2d ago\n",
      "Date Posted: 6d ago\n",
      "Date Posted: 1d ago\n",
      "Date Posted: 4d ago\n",
      "Date Posted: 6d ago\n",
      "Date Posted: 4d ago\n",
      "Date Posted not found.\n",
      "Date Posted: 9d ago\n",
      "Date Posted: 3d ago\n",
      "Date Posted: 5d ago\n",
      "Date Posted: 9d ago\n",
      "Date Posted: 18d ago\n",
      "Date Posted: 16d ago\n",
      "Date Posted: 13d ago\n",
      "Date Posted: 4d ago\n",
      "Date Posted: 12d ago\n",
      "Date Posted: 12d ago\n",
      "Date Posted: 13d ago\n",
      "Date Posted: 3d ago\n",
      "Date Posted not found.\n",
      "Date Posted: 13d ago\n",
      "Date Posted: 3d ago\n",
      "Date Posted not found.\n",
      "Date Posted: 13d ago\n",
      "Date Posted: 24d ago\n",
      "Date Posted: 6d ago\n",
      "Date Posted: 16d ago\n",
      "Date Posted: 6d ago\n",
      "Date Posted not found.\n",
      "Date Posted: 13d ago\n",
      "Date Posted: 11d ago\n",
      "Date Posted: 17d ago\n",
      "Date Posted: 18d ago\n",
      "Date Posted: 19d ago\n",
      "Date Posted: 12d ago\n",
      "Date Posted: 12d ago\n",
      "Date Posted not found.\n"
     ]
    }
   ],
   "source": [
    "for card in cards:\n",
    "        job_date = card.find('span',  \n",
    "                            attrs={'data-automation': 'jobListingDate'})\n",
    "        if job_date:\n",
    "            date_posted = job_date.text.strip()\n",
    "            print(\"Date Posted:\", date_posted)\n",
    "        else:\n",
    "            print(\"Date Posted not found.\")\n",
    "            date_posted = ''\n"
   ]
  }
 ],
 "metadata": {
  "kernelspec": {
   "display_name": "Python 3 (ipykernel)",
   "language": "python",
   "name": "python3"
  },
  "language_info": {
   "codemirror_mode": {
    "name": "ipython",
    "version": 3
   },
   "file_extension": ".py",
   "mimetype": "text/x-python",
   "name": "python",
   "nbconvert_exporter": "python",
   "pygments_lexer": "ipython3",
   "version": "3.10.9"
  }
 },
 "nbformat": 4,
 "nbformat_minor": 5
}
